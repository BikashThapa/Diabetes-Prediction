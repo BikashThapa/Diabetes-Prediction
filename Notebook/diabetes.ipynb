{
 "cells": [
  {
   "cell_type": "code",
   "execution_count": null,
   "metadata": {},
   "outputs": [],
   "source": [
    "import pandas as pd\n",
    "import numpy as np\n",
    "import matplotlib.pyplot as plt\n",
    "import seaborn as sns\n",
    "from sklearn.model_selection import train_test_split, GridSearchCV\n",
    "from sklearn.preprocessing import StandardScaler\n",
    "from sklearn.linear_model import LogisticRegression\n",
    "from sklearn.tree import DecisionTreeClassifier \n",
    "from sklearn.ensemble import RandomForestClassifier\n",
    "from sklearn.metrics import accuracy_score,confusion_matrix,precision_score,recall_score,f1_score,auc\n"
   ]
  },
  {
   "cell_type": "code",
   "execution_count": null,
   "metadata": {},
   "outputs": [],
   "source": [
    "import warnings\n",
    "warnings.filterwarnings('ignore')"
   ]
  },
  {
   "cell_type": "code",
   "execution_count": null,
   "metadata": {},
   "outputs": [],
   "source": [
    "df = pd.read_csv(\"Dataset\\diabetes.csv\")"
   ]
  },
  {
   "cell_type": "code",
   "execution_count": null,
   "metadata": {},
   "outputs": [
    {
     "data": {
      "text/plain": [
       "   Pregnancies  Glucose  BloodPressure  ...  DiabetesPedigreeFunction  Age  Outcome\n",
       "0            6      148             72  ...                     0.627   50        1\n",
       "1            1       85             66  ...                     0.351   31        0\n",
       "2            8      183             64  ...                     0.672   32        1\n",
       "3            1       89             66  ...                     0.167   21        0\n",
       "4            0      137             40  ...                     2.288   33        1\n",
       "\n",
       "[5 rows x 9 columns]\n"
      ]
     },
     "metadata": {},
     "output_type": "display_data"
    }
   ],
   "source": [
    "df.head()"
   ]
  },
  {
   "cell_type": "code",
   "execution_count": null,
   "metadata": {},
   "outputs": [
    {
     "data": {
      "text/plain": [
       "Pregnancies                 0\n",
       "Glucose                     0\n",
       "BloodPressure               0\n",
       "SkinThickness               0\n",
       "Insulin                     0\n",
       "BMI                         0\n",
       "DiabetesPedigreeFunction    0\n",
       "Age                         0\n",
       "Outcome                     0\n",
       "dtype: int64\n"
      ]
     },
     "metadata": {},
     "output_type": "display_data"
    }
   ],
   "source": [
    "df.isna().sum()"
   ]
  },
  {
   "cell_type": "code",
   "execution_count": null,
   "metadata": {},
   "outputs": [
    {
     "data": {
      "text/plain": [
       "       Pregnancies     Glucose  ...         Age     Outcome\n",
       "count   768.000000  768.000000  ...  768.000000  768.000000\n",
       "mean      3.845052  120.894531  ...   33.240885    0.348958\n",
       "std       3.369578   31.972618  ...   11.760232    0.476951\n",
       "min       0.000000    0.000000  ...   21.000000    0.000000\n",
       "25%       1.000000   99.000000  ...   24.000000    0.000000\n",
       "50%       3.000000  117.000000  ...   29.000000    0.000000\n",
       "75%       6.000000  140.250000  ...   41.000000    1.000000\n",
       "max      17.000000  199.000000  ...   81.000000    1.000000\n",
       "\n",
       "[8 rows x 9 columns]\n"
      ]
     },
     "metadata": {},
     "output_type": "display_data"
    }
   ],
   "source": [
    "df.describe()"
   ]
  },
  {
   "cell_type": "code",
   "execution_count": null,
   "metadata": {},
   "outputs": [],
   "source": [
    "pd.set_option('display.max_columns',None)"
   ]
  },
  {
   "cell_type": "code",
   "execution_count": null,
   "metadata": {},
   "outputs": [
    {
     "data": {
      "text/plain": [
       "       Pregnancies     Glucose  BloodPressure  SkinThickness     Insulin  \\\n",
       "count   768.000000  768.000000     768.000000     768.000000  768.000000   \n",
       "mean      3.845052  120.894531      69.105469      20.536458   79.799479   \n",
       "std       3.369578   31.972618      19.355807      15.952218  115.244002   \n",
       "min       0.000000    0.000000       0.000000       0.000000    0.000000   \n",
       "25%       1.000000   99.000000      62.000000       0.000000    0.000000   \n",
       "50%       3.000000  117.000000      72.000000      23.000000   30.500000   \n",
       "75%       6.000000  140.250000      80.000000      32.000000  127.250000   \n",
       "max      17.000000  199.000000     122.000000      99.000000  846.000000   \n",
       "\n",
       "              BMI  DiabetesPedigreeFunction         Age     Outcome  \n",
       "count  768.000000                768.000000  768.000000  768.000000  \n",
       "mean    31.992578                  0.471876   33.240885    0.348958  \n",
       "std      7.884160                  0.331329   11.760232    0.476951  \n",
       "min      0.000000                  0.078000   21.000000    0.000000  \n",
       "25%     27.300000                  0.243750   24.000000    0.000000  \n",
       "50%     32.000000                  0.372500   29.000000    0.000000  \n",
       "75%     36.600000                  0.626250   41.000000    1.000000  \n",
       "max     67.100000                  2.420000   81.000000    1.000000  \n"
      ]
     },
     "metadata": {},
     "output_type": "display_data"
    }
   ],
   "source": [
    "df.describe()"
   ]
  },
  {
   "cell_type": "code",
   "execution_count": null,
   "metadata": {},
   "outputs": [
    {
     "data": {
      "text/plain": [
       "0\n"
      ]
     },
     "metadata": {},
     "output_type": "display_data"
    }
   ],
   "source": [
    "df.duplicated().sum()"
   ]
  },
  {
   "cell_type": "code",
   "execution_count": null,
   "metadata": {},
   "outputs": [
    {
     "data": {
      "text/plain": [
       "Index(['Pregnancies', 'Glucose', 'BloodPressure', 'SkinThickness', 'Insulin',\n",
       "       'BMI', 'DiabetesPedigreeFunction', 'Age', 'Outcome'],\n",
       "      dtype='object')\n"
      ]
     },
     "metadata": {},
     "output_type": "display_data"
    }
   ],
   "source": [
    "df.columns"
   ]
  },
  {
   "cell_type": "code",
   "execution_count": null,
   "metadata": {},
   "outputs": [],
   "source": [
    "col_names = ['Glucose','BloodPressure','SkinThickness','BMI','Insulin']\n",
    "\n",
    "for i in col_names:\n",
    "    df[i] = df[i].replace(df[i].min(),df[i].median())"
   ]
  },
  {
   "cell_type": "code",
   "execution_count": null,
   "metadata": {},
   "outputs": [
    {
     "data": {
      "text/plain": [
       "       Pregnancies     Glucose  BloodPressure  SkinThickness     Insulin  \\\n",
       "count   768.000000  768.000000     768.000000     768.000000  768.000000   \n",
       "mean      3.845052  121.751302      72.449219      27.376302   94.674805   \n",
       "std       3.369578   30.309174      11.969650       9.172990  105.532247   \n",
       "min       0.000000   56.000000      30.000000       8.000000   15.000000   \n",
       "25%       1.000000  100.000000      64.000000      23.000000   30.500000   \n",
       "50%       3.000000  117.000000      72.000000      23.000000   31.625000   \n",
       "75%       6.000000  140.250000      80.000000      32.000000  127.250000   \n",
       "max      17.000000  199.000000     122.000000      99.000000  846.000000   \n",
       "\n",
       "              BMI  DiabetesPedigreeFunction         Age     Outcome  \n",
       "count  768.000000                768.000000  768.000000  768.000000  \n",
       "mean    32.504818                  0.471876   33.240885    0.348958  \n",
       "std      6.817199                  0.331329   11.760232    0.476951  \n",
       "min     18.400000                  0.078000   21.000000    0.000000  \n",
       "25%     27.600000                  0.243750   24.000000    0.000000  \n",
       "50%     32.000000                  0.372500   29.000000    0.000000  \n",
       "75%     36.600000                  0.626250   41.000000    1.000000  \n",
       "max     67.100000                  2.420000   81.000000    1.000000  \n"
      ]
     },
     "metadata": {},
     "output_type": "display_data"
    }
   ],
   "source": [
    "df.describe()"
   ]
  },
  {
   "cell_type": "code",
   "execution_count": null,
   "metadata": {},
   "outputs": [
    {
     "data": {
      "text/plain": [
       "Outcome\n",
       "0    500\n",
       "1    268\n",
       "Name: count, dtype: int64\n"
      ]
     },
     "metadata": {},
     "output_type": "display_data"
    }
   ],
   "source": [
    "df['Outcome'].value_counts()"
   ]
  },
  {
   "cell_type": "code",
   "execution_count": null,
   "metadata": {},
   "outputs": [],
   "source": [
    "# split the data into X and Y\n",
    "x = df.drop(columns=['Outcome'])\n",
    "y = df['Outcome']"
   ]
  },
  {
   "cell_type": "code",
   "execution_count": null,
   "metadata": {},
   "outputs": [],
   "source": [
    "# Split X and Y into Train test\n",
    "X_train, X_test, y_train, y_test = train_test_split(x,y,test_size=0.2,random_state=0)"
   ]
  },
  {
   "cell_type": "code",
   "execution_count": null,
   "metadata": {},
   "outputs": [],
   "source": [
    "sc = StandardScaler()\n",
    "X_train = sc.fit_transform(X_train)\n",
    "X_test = sc.transform(X_test)"
   ]
  },
  {
   "cell_type": "code",
   "execution_count": null,
   "metadata": {},
   "outputs": [],
   "source": [
    "# Baseline Model\n",
    "models = {\n",
    "    'LogisticRegression':LogisticRegression(),\n",
    "    'DecsionTreeClassifier': DecisionTreeClassifier(),\n",
    "    'RandomForestClassifier':RandomForestClassifier()\n",
    "}"
   ]
  },
  {
   "cell_type": "code",
   "execution_count": null,
   "metadata": {},
   "outputs": [
    {
     "data": {
      "text/plain": [
       "===================LogisticRegression==============\n",
       "Confusion Matrix for LogisticRegression is \n",
       " [[98  9]\n",
       " [19 28]]\n",
       "Accuracy for LogisticRegression is 0.8181818181818182\n",
       "Precision Score for LogisticRegression is 0.7567567567567568\n",
       "Recall Score for LogisticRegression is 0.5957446808510638\n",
       "F1 Score for LogisticRegression is 0.6666666666666666\n",
       "======================================\n",
       "\n",
       "===================DecsionTreeClassifier==============\n",
       "Confusion Matrix for DecsionTreeClassifier is \n",
       " [[87 20]\n",
       " [16 31]]\n",
       "Accuracy for DecsionTreeClassifier is 0.7662337662337663\n",
       "Precision Score for DecsionTreeClassifier is 0.6078431372549019\n",
       "Recall Score for DecsionTreeClassifier is 0.6595744680851063\n",
       "F1 Score for DecsionTreeClassifier is 0.6326530612244898\n",
       "======================================\n",
       "\n",
       "===================RandomForestClassifier==============\n",
       "Confusion Matrix for RandomForestClassifier is \n",
       " [[95 12]\n",
       " [18 29]]\n",
       "Accuracy for RandomForestClassifier is 0.8051948051948052\n",
       "Precision Score for RandomForestClassifier is 0.7073170731707317\n",
       "Recall Score for RandomForestClassifier is 0.6170212765957447\n",
       "F1 Score for RandomForestClassifier is 0.6590909090909091\n",
       "======================================\n",
       "\n"
      ]
     },
     "metadata": {},
     "output_type": "display_data"
    }
   ],
   "source": [
    "for name,model in models.items():\n",
    "\n",
    "    print(f'==================={name}==============')\n",
    "    model.fit(X_train,y_train)\n",
    "\n",
    "    y_pred = model.predict(X_test)\n",
    "    print(f'Confusion Matrix for {name} is \\n {confusion_matrix(y_test,y_pred)}')\n",
    "\n",
    "    print(f'Accuracy for {name} is {accuracy_score(y_test,y_pred)}')\n",
    "\n",
    "    print(f'Precision Score for {name} is {precision_score(y_test,y_pred)}')\n",
    "\n",
    "    print(f'Recall Score for {name} is {recall_score(y_test,y_pred)}')\n",
    "\n",
    "    print(f'F1 Score for {name} is {f1_score(y_test,y_pred)}')\n",
    "\n",
    "    print(f'======================================')\n",
    "\n",
    "    print()\n",
    "\n",
    "\n",
    "    "
   ]
  },
  {
   "cell_type": "code",
   "execution_count": null,
   "metadata": {},
   "outputs": [],
   "source": [
    "rfc = RandomForestClassifier()\n",
    "rfc.fit(X_train,y_train)"
   ]
  },
  {
   "cell_type": "code",
   "execution_count": null,
   "metadata": {},
   "outputs": [],
   "source": [
    "import pickle\n",
    "pickle.dump(rfc ,open('pickle_files\\model.pkl','wb'))\n",
    "pickle.dump(sc ,open('pickle_files\\scaler.pkl','wb'))\n",
    "\n"
   ]
  },
  {
   "cell_type": "code",
   "execution_count": null,
   "metadata": {},
   "outputs": [
    {
     "data": {
      "text/plain": [
       "[1 0 0 1 0 0 1 1 1 1 1 1 0 0 0 1 1 0 1 0 1 0 0 0 0 1 0 1 0 0 1 0 0 1 0 1 1\n",
       " 0 0 1 0 0 0 1 1 0 0 0 1 0 1 0 1 1 0 0 0 1 1 1 1 1 0 1 1 1 1 0 1 0 0 0 0 1\n",
       " 1 1 0 1 0 0 1 1 0 0 0 0 0 1 1 0 0 0 0 0 1 0 1 1 1 1 0 0 0 0 1 1 0 1 0 1 0\n",
       " 1 1 1 1 1 0 1 0 1 1 1 0 0 0 0 0 1 1 1 1 0 0 1 1 1 0 1 1 0 0 1 0 0 1 0 0 0\n",
       " 0 0 0 0 0 0]\n"
      ]
     },
     "metadata": {},
     "output_type": "display_data"
    }
   ],
   "source": [
    "# Chnage Threshold Technique should be equal or greater than 0.3\n",
    "y_proba = rfc.predict_proba(X_test)\n",
    "y_predict_proba = (y_proba[:,1] >= 0.35).astype('int')\n",
    "print(y_predict_proba)\n"
   ]
  },
  {
   "cell_type": "code",
   "execution_count": null,
   "metadata": {},
   "outputs": [
    {
     "data": {
      "text/plain": [
       "Confusion Matrix for RandomForestClassifier is \n",
       " [[76 31]\n",
       " [ 6 41]]\n",
       "Accuracy for RandomForestClassifier is 0.7597402597402597\n",
       "Precision Score for RandomForestClassifier is 0.5694444444444444\n",
       "Recall Score for RandomForestClassifier is 0.8723404255319149\n",
       "F1 Score for RandomForestClassifier is 0.6890756302521008\n",
       "======================================\n"
      ]
     },
     "metadata": {},
     "output_type": "display_data"
    }
   ],
   "source": [
    "\n",
    "print(f'Confusion Matrix for {name} is \\n {confusion_matrix(y_test,y_predict_proba)}')\n",
    "\n",
    "print(f'Accuracy for {name} is {accuracy_score(y_test,y_predict_proba)}')\n",
    "\n",
    "print(f'Precision Score for {name} is {precision_score(y_test,y_predict_proba)}')\n",
    "\n",
    "print(f'Recall Score for {name} is {recall_score(y_test,y_predict_proba)}')\n",
    "\n",
    "print(f'F1 Score for {name} is {f1_score(y_test,y_predict_proba)}')\n",
    "\n",
    "print(f'======================================')"
   ]
  },
  {
   "cell_type": "code",
   "execution_count": null,
   "metadata": {},
   "outputs": [],
   "source": [
    "from imblearn.over_sampling import SMOTE\n",
    "smote = SMOTE()\n",
    "x_resampled,y_resampled = smote.fit_resample(x,y)\n",
    "\n",
    "x_tr_smote, x_ts_smote,y_tr_smote, y_ts_smote = train_test_split(x_resampled,y_resampled,test_size=0.2,random_state=0)\n",
    "\n",
    "\n",
    "sc_1 =StandardScaler()\n",
    "x_tr_smote = sc_1.fit_transform(x_tr_smote)\n",
    "x_ts_smote = sc_1.fit_transform(x_ts_smote)\n",
    "\n"
   ]
  },
  {
   "cell_type": "code",
   "execution_count": null,
   "metadata": {},
   "outputs": [
    {
     "data": {
      "text/plain": [
       "Confusion Matrix for RandomForestClassifier is \n",
       " [[89 16]\n",
       " [ 7 88]]\n",
       "Accuracy for RandomForestClassifier is 0.885\n",
       "Precision Score for RandomForestClassifier is 0.8461538461538461\n",
       "Recall Score for RandomForestClassifier is 0.9263157894736842\n",
       "F1 Score for RandomForestClassifier is 0.8844221105527639\n",
       "======================================\n"
      ]
     },
     "metadata": {},
     "output_type": "display_data"
    }
   ],
   "source": [
    "rfc_smote = RandomForestClassifier()\n",
    "rfc_smote.fit(x_tr_smote,y_tr_smote)\n",
    "\n",
    "y_pred_smote = rfc_smote.predict(x_ts_smote)\n",
    "\n",
    "\n",
    "print(f'Confusion Matrix for {name} is \\n {confusion_matrix(y_ts_smote,y_pred_smote)}')\n",
    "\n",
    "print(f'Accuracy for {name} is {accuracy_score(y_ts_smote,y_pred_smote)}')\n",
    "\n",
    "print(f'Precision Score for {name} is {precision_score(y_ts_smote,y_pred_smote)}')\n",
    "\n",
    "print(f'Recall Score for {name} is {recall_score(y_ts_smote,y_pred_smote)}')\n",
    "\n",
    "print(f'F1 Score for {name} is {f1_score(y_ts_smote,y_pred_smote)}')\n",
    "\n",
    "print(f'======================================')\n"
   ]
  },
  {
   "cell_type": "code",
   "execution_count": null,
   "metadata": {},
   "outputs": [],
   "source": [
    "pickle.dump(rfc_smote,open('pickle_files/rfc_model_smote.pkl','wb'))\n",
    "pickle.dump(sc_1,open('pickle_files\\sc_1_smote.pkl','wb'))\n"
   ]
  },
  {
   "cell_type": "code",
   "execution_count": null,
   "metadata": {},
   "outputs": [],
   "source": [
    "# Hyperparameter Tuning\n"
   ]
  }
 ],
 "metadata": {
  "language_info": {
   "name": "python"
  }
 },
 "nbformat": 4,
 "nbformat_minor": 2
}
